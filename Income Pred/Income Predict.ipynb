{
 "cells": [
  {
   "cell_type": "code",
   "execution_count": null,
   "metadata": {},
   "outputs": [],
   "source": [
    "# Load the Pandas libraries with alias pd\n",
    "import pandas as pd\n",
    "# Load the different libraries needed from sklearn\n",
    "from sklearn import preprocessing\n",
    "from sklearn import linear_model\n",
    "from sklearn.model_selection import train_test_split\n",
    "from sklearn.metrics import mean_squared_error\n",
    "from sklearn.ensemble import RandomForestRegressor\n",
    "# Load numpy libraries with alias np\n",
    "import numpy as np\n",
    "from scipy import stats\n",
    "import math\n",
    "from math import sqrt"
   ]
  },
  {
   "cell_type": "code",
   "execution_count": null,
   "metadata": {},
   "outputs": [],
   "source": [
    "def deal_with_nan_training(data):\n",
    "    data['University Degree'] = data['University Degree'].fillna('No')\n",
    "    # Drop any rows which have any nan's\n",
    "    data = data.dropna(axis=0)\n",
    "    return data"
   ]
  },
  {
   "cell_type": "code",
   "execution_count": null,
   "metadata": {},
   "outputs": [],
   "source": [
    "def avg_age(data):\n",
    "    avg = (data['Age'].mean())\n",
    "    return avg\n",
    "\n",
    "def avg_size_of_city(data):\n",
    "    avg = (data['Size of City'].mean())\n",
    "    return avg\n",
    "\n",
    "def avg_year_of_record(data):\n",
    "    avg = (data['Year of Record'].mean())\n",
    "    return avg\n",
    "\n",
    "def avg_body_height(data):\n",
    "    avg = (data['Body Height [cm]'].mean())\n",
    "    return avg\n",
    "\n",
    "def avg_crime(data):\n",
    "    avg = (data['Crime Level in the City of Employement'].mean())\n",
    "    return avg\n",
    "\n",
    "def avg_work_exp(data):\n",
    "    avg = (data['Work Experience in Current Job [years]'].mean())\n",
    "    return avg"
   ]
  },
  {
   "cell_type": "code",
   "execution_count": null,
   "metadata": {},
   "outputs": [],
   "source": [
    "def deal_with_nan_test(test_data, training_data):\n",
    "    test_data['Gender'] = test_data['Gender'].fillna('unknown')\n",
    "    test_data['University Degree'] = test_data['University Degree'].fillna('No')\n",
    "    test_data['Age'] = test_data['Age'].fillna(int(avg_age(training_data)))\n",
    "    test_data['Size of City'] = test_data['Size of City'].fillna(int(avg_size_of_city(training_data)))\n",
    "    test_data['Year of Record'] = test_data['Year of Record'].fillna(int(avg_year_of_record(training_data)))\n",
    "    test_data['Body Height [cm]'] = test_data['Body Height [cm]'].fillna(int(avg_body_height(training_data)))\n",
    "    test_data['Profession'] = test_data['Profession'].fillna('Unknown')\n",
    "    test_data['Crime Level in the City of Employement'] = test_data['Crime Level in the City of Employement'].fillna(int(avg_crime(training_data)))\n",
    "    test_data['Work Experience in Current Job [years]'] = test_data['Work Experience in Current Job [years]'].fillna(5)\n",
    "    test_data['Satisfation with employer'] = test_data['Satisfation with employer'].fillna(\"Average\")\n",
    "    test_data['Yearly Income in addition to Salary (e.g. Rental Income)'] = test_data['Yearly Income in addition to Salary (e.g. Rental Income)'].fillna(0)\n",
    "    return test_data"
   ]
  },
  {
   "cell_type": "code",
   "execution_count": null,
   "metadata": {},
   "outputs": [],
   "source": [
    "def transform_features(data):\n",
    "    data['University Degree'] = data['University Degree'].map({'Bachelor':1, 'PhD':3, 'other':0.5, '0':0, 'Master':2, 'No':0})\n",
    "    encode = pd.get_dummies(data, columns=[ \"Gender\",\"Country\",\"Profession\",\"Housing Situation\",\"Satisfation with employer\"],\n",
    "    prefix=[\"enc_gen\",\"enc_country\",\"enc_pro\",\"enc_housing\",\"enc_sat\"], drop_first=True)\n",
    "    print(list(encode.columns))\n",
    "    return encode"
   ]
  },
  {
   "cell_type": "code",
   "execution_count": null,
   "metadata": {},
   "outputs": [],
   "source": []
  },
  {
   "cell_type": "code",
   "execution_count": null,
   "metadata": {},
   "outputs": [],
   "source": []
  },
  {
   "cell_type": "code",
   "execution_count": null,
   "metadata": {},
   "outputs": [],
   "source": []
  }
 ],
 "metadata": {
  "kernelspec": {
   "display_name": "Python 3",
   "language": "python",
   "name": "python3"
  },
  "language_info": {
   "codemirror_mode": {
    "name": "ipython",
    "version": 3
   },
   "file_extension": ".py",
   "mimetype": "text/x-python",
   "name": "python",
   "nbconvert_exporter": "python",
   "pygments_lexer": "ipython3",
   "version": "3.6.8"
  }
 },
 "nbformat": 4,
 "nbformat_minor": 2
}
